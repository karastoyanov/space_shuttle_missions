{
 "cells": [
  {
   "cell_type": "code",
   "execution_count": 1,
   "metadata": {},
   "outputs": [
    {
     "data": {
      "text/html": [
       "<!DOCTYPE html>\n",
       "<html lang=\"en\">\n",
       "<head>\n",
       "    <meta charset=\"UTF-8\">\n",
       "    <meta http-equiv=\"X-UA-Compatible\" content=\"IE=edge\">\n",
       "    <meta name=\"viewport\" content=\"width=device-width, initial-scale=1.0\">\n",
       "    <link rel=\"stylesheet\" href=\"./html/styles.css\">\n",
       "    <title>Space Shuttle Missions Study</title>\n",
       "</head>\n",
       "<body>\n",
       "    <h1 class=\"title\">Space Shuttle Missions between 1981 - 2011</h1>\n",
       "    <p class=\"text\">The Space Shuttle is a retired, partially reusable low Earth orbital spacecraft system operated from 1981 to 2011 by the U.S. \n",
       "        National Aeronautics and Space Administration (NASA) as part of the Space Shuttle program. \n",
       "        Its official program name was Space Transportation System (STS), taken from a 1969 plan for a system of reusable spacecraft where\n",
       "         it was the only item funded for development.</p>\n",
       "    <p class=\"text\">The first orbiter, Enterprise, was built in 1976 and used in Approach and Landing Tests (ALT), but had no orbital capability. \n",
       "        Four fully operational orbiters were initially built: Columbia, Challenger, Discovery, and Atlantis. \n",
       "        Of these, two were lost in mission accidents: Challenger in 1986 and Columbia in 2003, with a total of 14 astronauts killed. \n",
       "        A fifth operational (and sixth in total) orbiter, Endeavour, was built in 1991 to replace Challenger. \n",
       "        The three surviving operational vehicles were retired from service following Atlantis's final flight on July 21, 2011. \n",
       "        The U.S. relied on the Russian Soyuz spacecraft to transport astronauts to the ISS from the last Shuttle flight until the \n",
       "        launch of the Crew Dragon Demo-2 mission in May 2020.</p>\n",
       "    <img src=\"https://upload.wikimedia.org/wikipedia/commons/thumb/a/a1/Shuttle_profiles.jpg/580px-Shuttle_profiles.jpg\" class=\"image\">\n",
       "    <p class=\"description\">Shuttle launch profiles. From left: Columbia, Challenger, Discovery, Atlantis, and Endeavour</p>\n",
       "</body>\n",
       "</html>"
      ],
      "text/plain": [
       "<IPython.core.display.HTML object>"
      ]
     },
     "execution_count": 1,
     "metadata": {},
     "output_type": "execute_result"
    }
   ],
   "source": [
    "from IPython.display import HTML\n",
    "HTML(filename='./html/index.html')"
   ]
  },
  {
   "cell_type": "code",
   "execution_count": 2,
   "metadata": {},
   "outputs": [],
   "source": [
    "import pandas as pd\n",
    "import numpy as np\n",
    "import matplotlib.pyplot as plt\n",
    "import seaborn"
   ]
  },
  {
   "cell_type": "code",
   "execution_count": 3,
   "metadata": {},
   "outputs": [
    {
     "data": {
      "text/html": [
       "<div>\n",
       "<style scoped>\n",
       "    .dataframe tbody tr th:only-of-type {\n",
       "        vertical-align: middle;\n",
       "    }\n",
       "\n",
       "    .dataframe tbody tr th {\n",
       "        vertical-align: top;\n",
       "    }\n",
       "\n",
       "    .dataframe thead th {\n",
       "        text-align: right;\n",
       "    }\n",
       "</style>\n",
       "<table border=\"1\" class=\"dataframe\">\n",
       "  <thead>\n",
       "    <tr style=\"text-align: right;\">\n",
       "      <th></th>\n",
       "      <th>Crew</th>\n",
       "      <th>Duration Hours</th>\n",
       "      <th>Miles Flown</th>\n",
       "      <th>Miles Flown #</th>\n",
       "      <th>Miles Flown (millions)</th>\n",
       "      <th>Mission</th>\n",
       "      <th>Number of Missions</th>\n",
       "      <th>Shuttle</th>\n",
       "      <th>Article Date</th>\n",
       "      <th>Article Header</th>\n",
       "      <th>Crash?</th>\n",
       "      <th>Last Launch?</th>\n",
       "      <th>Mission Date</th>\n",
       "      <th>Year</th>\n",
       "      <th>Article Date Long</th>\n",
       "    </tr>\n",
       "  </thead>\n",
       "  <tbody>\n",
       "    <tr>\n",
       "      <th>0</th>\n",
       "      <td>2</td>\n",
       "      <td>54</td>\n",
       "      <td>0.9M</td>\n",
       "      <td>0.9</td>\n",
       "      <td>900000</td>\n",
       "      <td>STS-1</td>\n",
       "      <td>1</td>\n",
       "      <td>Columbia</td>\n",
       "      <td>4/13/81</td>\n",
       "      <td>Nation's Hopes Carried Aloft by Shuttle: Delay...</td>\n",
       "      <td>0</td>\n",
       "      <td>0</td>\n",
       "      <td>4/12/81</td>\n",
       "      <td>1981</td>\n",
       "      <td>April 13, 1981</td>\n",
       "    </tr>\n",
       "    <tr>\n",
       "      <th>1</th>\n",
       "      <td>2</td>\n",
       "      <td>54</td>\n",
       "      <td>0.9M</td>\n",
       "      <td>0.9</td>\n",
       "      <td>900000</td>\n",
       "      <td>STS-2</td>\n",
       "      <td>1</td>\n",
       "      <td>Columbia</td>\n",
       "      <td>11/13/81</td>\n",
       "      <td>Shuttle Rises to Orbit, But a Fuel Cell Fails</td>\n",
       "      <td>0</td>\n",
       "      <td>0</td>\n",
       "      <td>11/12/81</td>\n",
       "      <td>1981</td>\n",
       "      <td>November 13, 1981</td>\n",
       "    </tr>\n",
       "    <tr>\n",
       "      <th>2</th>\n",
       "      <td>2</td>\n",
       "      <td>192</td>\n",
       "      <td>3.9M</td>\n",
       "      <td>3.9</td>\n",
       "      <td>3900000</td>\n",
       "      <td>STS-3</td>\n",
       "      <td>1</td>\n",
       "      <td>Columbia</td>\n",
       "      <td>3/23/82</td>\n",
       "      <td>Shuttle Is Lofted Into Earth Orbit for Third M...</td>\n",
       "      <td>0</td>\n",
       "      <td>0</td>\n",
       "      <td>3/22/82</td>\n",
       "      <td>1982</td>\n",
       "      <td>March 23, 1982</td>\n",
       "    </tr>\n",
       "    <tr>\n",
       "      <th>3</th>\n",
       "      <td>2</td>\n",
       "      <td>169</td>\n",
       "      <td>2.9M</td>\n",
       "      <td>2.9</td>\n",
       "      <td>2900000</td>\n",
       "      <td>STS-4</td>\n",
       "      <td>1</td>\n",
       "      <td>Columbia</td>\n",
       "      <td>6/28/82</td>\n",
       "      <td>Shuttle, Carrying Military Cargo, Blasts Off i...</td>\n",
       "      <td>0</td>\n",
       "      <td>0</td>\n",
       "      <td>6/27/82</td>\n",
       "      <td>1982</td>\n",
       "      <td>June 28, 1982</td>\n",
       "    </tr>\n",
       "    <tr>\n",
       "      <th>4</th>\n",
       "      <td>4</td>\n",
       "      <td>122</td>\n",
       "      <td>1.9M</td>\n",
       "      <td>1.9</td>\n",
       "      <td>1900000</td>\n",
       "      <td>STS-5</td>\n",
       "      <td>1</td>\n",
       "      <td>Columbia</td>\n",
       "      <td>11/11/82</td>\n",
       "      <td>Shuttle, with Crew of 4, Lifts Off Flawlessly ...</td>\n",
       "      <td>0</td>\n",
       "      <td>0</td>\n",
       "      <td>11/11/82</td>\n",
       "      <td>1982</td>\n",
       "      <td>November 11, 1982</td>\n",
       "    </tr>\n",
       "  </tbody>\n",
       "</table>\n",
       "</div>"
      ],
      "text/plain": [
       "   Crew  Duration Hours Miles Flown  Miles Flown #  Miles Flown (millions)  \\\n",
       "0     2              54        0.9M            0.9                  900000   \n",
       "1     2              54        0.9M            0.9                  900000   \n",
       "2     2             192        3.9M            3.9                 3900000   \n",
       "3     2             169        2.9M            2.9                 2900000   \n",
       "4     4             122        1.9M            1.9                 1900000   \n",
       "\n",
       "  Mission  Number of Missions   Shuttle Article Date  \\\n",
       "0   STS-1                   1  Columbia      4/13/81   \n",
       "1   STS-2                   1  Columbia     11/13/81   \n",
       "2   STS-3                   1  Columbia      3/23/82   \n",
       "3   STS-4                   1  Columbia      6/28/82   \n",
       "4   STS-5                   1  Columbia     11/11/82   \n",
       "\n",
       "                                      Article Header  Crash?  Last Launch?  \\\n",
       "0  Nation's Hopes Carried Aloft by Shuttle: Delay...       0             0   \n",
       "1      Shuttle Rises to Orbit, But a Fuel Cell Fails       0             0   \n",
       "2  Shuttle Is Lofted Into Earth Orbit for Third M...       0             0   \n",
       "3  Shuttle, Carrying Military Cargo, Blasts Off i...       0             0   \n",
       "4  Shuttle, with Crew of 4, Lifts Off Flawlessly ...       0             0   \n",
       "\n",
       "  Mission Date  Year  Article Date Long  \n",
       "0      4/12/81  1981     April 13, 1981  \n",
       "1     11/12/81  1981  November 13, 1981  \n",
       "2      3/22/82  1982     March 23, 1982  \n",
       "3      6/27/82  1982      June 28, 1982  \n",
       "4     11/11/82  1982  November 11, 1982  "
      ]
     },
     "execution_count": 3,
     "metadata": {},
     "output_type": "execute_result"
    }
   ],
   "source": [
    "missions = pd.read_csv(r\"space_shuttle_missions.csv\")\n",
    "missions.head()"
   ]
  },
  {
   "cell_type": "code",
   "execution_count": 4,
   "metadata": {},
   "outputs": [
    {
     "data": {
      "text/html": [
       "<!DOCTYPE html>\n",
       "<html lang=\"en\">\n",
       "<head>\n",
       "    <meta charset=\"UTF-8\">\n",
       "    <meta http-equiv=\"X-UA-Compatible\" content=\"IE=edge\">\n",
       "    <meta name=\"viewport\" content=\"width=device-width, initial-scale=1.0\">\n",
       "    <link rel=\"stylesheet\" href=\"./html/styles.css\">\n",
       "    <title></title>\n",
       "</head>\n",
       "<body>\n",
       "    <h1 class=\"title\">Total Missions Number: 135</h1>\n",
       "    <p class=\"text\">American's Space Shuttle perfomed 135 orbital flights. The first orbiter, Enterprise, was built in 1976 and used \n",
       "        in Approach and Landing Tests (ALT), but had no orbital capability. Four fully operational orbiters were initially built: Columbia, \n",
       "        Challenger, Discovery, and Atlantis. Of these, two were lost in mission accidents: Challenger in 1986 and Columbia in 2003, \n",
       "        with a total of 14 astronauts killed. A fifth operational (and sixth in total) orbiter, Endeavour, was built in 1991 to \n",
       "        replace Challenger. The three surviving operational vehicles were retired from service following Atlantis's final flight on \n",
       "        July 21, 2011. </p>\n",
       "    \n",
       "    \n",
       "</body>\n",
       "</html>"
      ],
      "text/plain": [
       "<IPython.core.display.HTML object>"
      ]
     },
     "execution_count": 4,
     "metadata": {},
     "output_type": "execute_result"
    }
   ],
   "source": [
    "from IPython.display import HTML\n",
    "HTML(filename='./html/missions.html')"
   ]
  },
  {
   "cell_type": "code",
   "execution_count": 5,
   "metadata": {},
   "outputs": [
    {
     "data": {
      "image/png": "[encoded data removed]",
      "text/plain": [
       "<Figure size 640x480 with 1 Axes>"
      ]
     },
     "metadata": {},
     "output_type": "display_data"
    },
    {
     "data": {
      "text/html": [
       "<!DOCTYPE html>\n",
       "<html lang=\"en\">\n",
       "<head>\n",
       "    <meta charset=\"UTF-8\">\n",
       "    <meta http-equiv=\"X-UA-Compatible\" content=\"IE=edge\">\n",
       "    <meta name=\"viewport\" content=\"width=device-width, initial-scale=1.0\">\n",
       "    <link rel=\"stylesheet\" href=\"./html/styles.css\">\n",
       "    <title></title>\n",
       "</head>\n",
       "<body>\n",
       "    <p class=\"sec_text\">Figure 1: Total STS missions per Shuttle(1981 - 2011)</p>\n",
       "</body>\n",
       "</html>"
      ],
      "text/plain": [
       "<IPython.core.display.HTML object>"
      ]
     },
     "execution_count": 5,
     "metadata": {},
     "output_type": "execute_result"
    }
   ],
   "source": [
    "\n",
    "shuttles = [x for x in missions['Shuttle']]\n",
    "\n",
    "endeavour_num = shuttles.count(\"Endeavour\")\n",
    "atlantis_num = shuttles.count(\"Atlantis\")\n",
    "discovery_num = shuttles.count(\"Discovery\")\n",
    "challenger_num = shuttles.count(\"Challenger\")\n",
    "columbia_num = shuttles.count(\"Columbia\")\n",
    "\n",
    "xdata = [\"Endeavour\", \"Atlantis\", \"Discovery\", \"Challenger\", \"Columbia\"]\n",
    "ydata = [endeavour_num, atlantis_num, discovery_num, challenger_num, columbia_num]\n",
    "\n",
    "\n",
    "plt.barh(xdata,ydata)\n",
    "plt.title(\"Figure 1: Space Shuttle Missions\")\n",
    "plt.xlabel(\"Number of missions\")\n",
    "plt.ylabel(\"Space Shuttle\")\n",
    "for index, value in enumerate(ydata):\n",
    "    plt.text(value, index, str(value))\n",
    "plt.show()\n",
    "\n",
    "from IPython.display import HTML\n",
    "HTML(filename='./html/figure_one.html')"
   ]
  },
  {
   "cell_type": "code",
   "execution_count": 6,
   "metadata": {},
   "outputs": [
    {
     "data": {
      "image/png": "[encoded data removed]",
      "text/plain": [
       "<Figure size 640x480 with 1 Axes>"
      ]
     },
     "metadata": {},
     "output_type": "display_data"
    }
   ],
   "source": [
    "from collections import Counter\n",
    "years = [x for x in missions['Year']]\n",
    "\n",
    "keys = [x for x in Counter(years).keys()]\n",
    "counters = [x for x in Counter(years).values()]\n",
    "\n",
    "plt.title('Number of launches per year(1981 - 2011)')\n",
    "plt.xlabel('Year')\n",
    "plt.ylabel('Number of launches')\n",
    "plt.bar(keys, counters, color='red')\n",
    "plt.show()"
   ]
  }
 ],
 "metadata": {
  "kernelspec": {
   "display_name": "Python 3",
   "language": "python",
   "name": "python3"
  },
  "language_info": {
   "codemirror_mode": {
    "name": "ipython",
    "version": 3
   },
   "file_extension": ".py",
   "mimetype": "text/x-python",
   "name": "python",
   "nbconvert_exporter": "python",
   "pygments_lexer": "ipython3",
   "version": "3.9.2"
  },
  "vscode": {
   "interpreter": {
    "hash": "916dbcbb3f70747c44a77c7bcd40155683ae19c65e1c03b4aa3499c5328201f1"
   }
  }
 },
 "nbformat": 4,
 "nbformat_minor": 4
}
