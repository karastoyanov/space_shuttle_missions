{
 "cells": [
  {
   "cell_type": "code",
   "execution_count": null,
   "metadata": {},
   "outputs": [],
   "source": [
    "from IPython.display import IFrame\n",
    "IFrame(src=\"./index.html\", width=800, height=600)"
   ]
  },
  {
   "cell_type": "code",
   "execution_count": null,
   "metadata": {},
   "outputs": [],
   "source": [
    "import pandas as pd\n",
    "import numpy as np\n",
    "import matplotlib.pyplot as plt\n",
    "import seaborn"
   ]
  },
  {
   "cell_type": "code",
   "execution_count": null,
   "metadata": {},
   "outputs": [],
   "source": [
    "missions = pd.read_csv(r\"space_shuttle_missions.csv\")\n",
    "print(f'Total Missions: {len(missions)}')\n",
    "missions.head(200)"
   ]
  },
  {
   "cell_type": "code",
   "execution_count": null,
   "metadata": {},
   "outputs": [],
   "source": [
    "\n",
    "shuttles = [x for x in missions['Shuttle']]\n",
    "\n",
    "endeavour_num = shuttles.count(\"Endeavour\")\n",
    "atlantis_num = shuttles.count(\"Atlantis\")\n",
    "discovery_num = shuttles.count(\"Discovery\")\n",
    "challenger_num = shuttles.count(\"Challenger\")\n",
    "columbia_num = shuttles.count(\"Columbia\")\n",
    "\n",
    "xdata = [\"Endeavour\", \"Atlantis\", \"Discovery\", \"Challenger\", \"Columbia\"]\n",
    "ydata = [endeavour_num, atlantis_num, discovery_num, challenger_num, columbia_num]\n",
    "\n",
    "\n",
    "plt.barh(xdata,ydata)\n",
    "plt.xlabel(\"Number of missions\")\n",
    "plt.ylabel(\"Space Shuttle\")\n",
    "for index, value in enumerate(ydata):\n",
    "    plt.text(value, index, str(value))\n",
    "\n",
    "plt.title(\"Space Shuttle Missions\")\n",
    "plt.show()"
   ]
  },
  {
   "cell_type": "code",
   "execution_count": null,
   "metadata": {},
   "outputs": [],
   "source": [
    "from collections import Counter\n",
    "years = [x for x in missions['Year']]\n",
    "# print(years)\n",
    "\n",
    "keys = [x for x in Counter(years).keys()]\n",
    "counters = [x for x in Counter(years).values()]\n",
    "# print(keys)\n",
    "# print(counters)\n",
    "plt.title('Number of launches per year(1981 - 2011)')\n",
    "plt.xlabel('Year')\n",
    "plt.ylabel('Number of launches')\n",
    "plt.bar(keys, counters, color='red')\n",
    "plt.show()"
   ]
  }
 ],
 "metadata": {
  "kernelspec": {
   "display_name": "Python 3",
   "language": "python",
   "name": "python3"
  },
  "language_info": {
   "codemirror_mode": {
    "name": "ipython",
    "version": 3
   },
   "file_extension": ".py",
   "mimetype": "text/x-python",
   "name": "python",
   "nbconvert_exporter": "python",
   "pygments_lexer": "ipython3",
   "version": "3.9.2 (default, Feb 28 2021, 17:03:44) \n[GCC 10.2.1 20210110]"
  },
  "orig_nbformat": 4,
  "vscode": {
   "interpreter": {
    "hash": "31f2aee4e71d21fbe5cf8b01ff0e069b9275f58929596ceb00d14d90e3e16cd6"
   }
  }
 },
 "nbformat": 4,
 "nbformat_minor": 2
}
